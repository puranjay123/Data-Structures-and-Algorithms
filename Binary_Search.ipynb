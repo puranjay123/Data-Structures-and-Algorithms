{
  "nbformat": 4,
  "nbformat_minor": 0,
  "metadata": {
    "colab": {
      "name": "Binary Search.ipynb",
      "provenance": [],
      "authorship_tag": "ABX9TyN6w6/qDvGZ9xF/mA2RsXAN",
      "include_colab_link": true
    },
    "kernelspec": {
      "name": "python3",
      "display_name": "Python 3"
    },
    "language_info": {
      "name": "python"
    }
  },
  "cells": [
    {
      "cell_type": "markdown",
      "metadata": {
        "id": "view-in-github",
        "colab_type": "text"
      },
      "source": [
        "<a href=\"https://colab.research.google.com/github/puranjay123/Data-Structures-and-Algorithms/blob/main/Binary_Search.ipynb\" target=\"_parent\"><img src=\"https://colab.research.google.com/assets/colab-badge.svg\" alt=\"Open In Colab\"/></a>"
      ]
    },
    {
      "cell_type": "markdown",
      "source": [
        "# Binary Search\n",
        "Given an infinite sized sorted array and an element x, find if x is present in the array or not."
      ],
      "metadata": {
        "id": "mlV-qaoxV3gw"
      }
    },
    {
      "cell_type": "code",
      "execution_count": 6,
      "metadata": {
        "colab": {
          "base_uri": "https://localhost:8080/"
        },
        "id": "Gi-AdIILVxgG",
        "outputId": "355b662d-e013-42f5-a516-dd70c7b53aae"
      },
      "outputs": [
        {
          "output_type": "stream",
          "name": "stdout",
          "text": [
            "Element found at index 4\n"
          ]
        }
      ],
      "source": [
        "def binary_search(arr,l,r,x):\n",
        "\n",
        "\n",
        "  if r>=l:\n",
        "    mid = l+(r-l)//2\n",
        "    if(arr[mid]==x):\n",
        "      return mid\n",
        "\n",
        "    if(arr[mid]>x):\n",
        "      return binary_search(arr,l,mid-1,x)\n",
        "\n",
        "    return binary_search(arr,mid+1,r,x)\n",
        "  return -1\n",
        "def findPos(arr,key):\n",
        "  l,h,val=0,1,arr[0]\n",
        "\n",
        "  while(val<key):\n",
        "\n",
        "    l=h\n",
        "    h=2*h\n",
        "    val=arr[h]\n",
        "  # if(arr[0]==key):\n",
        "  #   return key;\n",
        "  #   i=1\n",
        "  # while(arr[i]<key):\n",
        "  #   i=i*2\n",
        "  return binary_search(arr,l,h,key)\n",
        "\n",
        "\n",
        "\n",
        "arr = [3,5,7,9,10,90,100,130,140,160,170]\n",
        "ans = findPos(arr,10)\n",
        "\n",
        "if(ans==-1):\n",
        "  print(\"Element not found\")\n",
        "else:\n",
        "  print(\"Element found at index\",ans)\n"
      ]
    }
  ]
}